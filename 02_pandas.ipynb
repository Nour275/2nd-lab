{
 "cells":[
  {
   "cell_type":"markdown",
   "source":[
    "# Pandas"
   ],
   "attachments":{
    
   },
   "metadata":{
    "datalore":{
     "node_id":"rMTuvUhpG3Ee9ChuB12a6k",
     "type":"MD",
     "hide_input_from_viewers":false,
     "hide_output_from_viewers":false,
     "report_properties":{
      "rowId":"iB503WgRz3EATlrSoAq4zv"
     }
    }
   }
  },
  {
   "cell_type":"markdown",
   "source":[
    "Материалы:\n",
    "* Макрушин С.В. \"Лекция 2: Библиотека Pandas\"\n",
    "* https:\/\/pandas.pydata.org\/docs\/user_guide\/index.html#\n",
    "* https:\/\/pandas.pydata.org\/docs\/reference\/index.html\n",
    "* Уэс Маккини. Python и анализ данных"
   ],
   "attachments":{
    
   },
   "metadata":{
    "datalore":{
     "node_id":"6jT27aR7jiTgjzioqQaCUy",
     "type":"MD",
     "hide_input_from_viewers":false,
     "hide_output_from_viewers":false,
     "report_properties":{
      "rowId":"xSA0Y1aBudRwmWhwUP5rwC"
     }
    }
   }
  },
  {
   "cell_type":"markdown",
   "source":[
    "## Задачи для совместного разбора"
   ],
   "attachments":{
    
   },
   "metadata":{
    "datalore":{
     "node_id":"5nLR7s1btQMpPN90RKwqpB",
     "type":"MD",
     "hide_input_from_viewers":false,
     "hide_output_from_viewers":false,
     "report_properties":{
      "rowId":"tPfw61CX2Ab0XIUSnzKogM"
     }
    }
   }
  },
  {
   "cell_type":"markdown",
   "source":[
    "1. Загрузите данные из файла `sp500hst.txt` и обозначьте столбцы в соответствии с содержимым: `\"date\", \"ticker\", \"open\", \"high\", \"low\", \"close\", \"volume\"`."
   ],
   "attachments":{
    
   },
   "metadata":{
    "datalore":{
     "node_id":"vQ6myWjFSrWuZW5ciKVlqi",
     "type":"MD",
     "hide_input_from_viewers":false,
     "hide_output_from_viewers":false,
     "report_properties":{
      "rowId":"0VVf9ueDRWxsGwwZUv4IWG"
     }
    }
   }
  },
  {
   "cell_type":"code",
   "source":[
    
   ],
   "execution_count":null,
   "outputs":[
    
   ],
   "metadata":{
    "datalore":{
     "node_id":"taKpvYT6zWRvhubeOdyer0",
     "type":"CODE",
     "hide_input_from_viewers":true,
     "hide_output_from_viewers":true
    }
   }
  },
  {
   "cell_type":"markdown",
   "source":[
    "2. Рассчитайте среднее значение показателей для каждого из столбцов c номерами 3-6."
   ],
   "attachments":{
    
   },
   "metadata":{
    "datalore":{
     "node_id":"q2MrRer9WGbosvyF9YBJbn",
     "type":"MD",
     "hide_input_from_viewers":false,
     "hide_output_from_viewers":false,
     "report_properties":{
      "rowId":"CGubPHm1hNlrteCFDcHi0H"
     }
    }
   }
  },
  {
   "cell_type":"markdown",
   "source":[
    "3. Добавьте столбец, содержащий только число месяца, к которому относится дата."
   ],
   "attachments":{
    
   },
   "metadata":{
    "datalore":{
     "node_id":"ms7MzODqC8hIi2Sy4TqaG6",
     "type":"MD",
     "hide_input_from_viewers":false,
     "hide_output_from_viewers":false,
     "report_properties":{
      "rowId":"weP7U1YM6RhXkoH4xzl2gb"
     }
    }
   }
  },
  {
   "cell_type":"markdown",
   "source":[
    "4. Рассчитайте суммарный объем торгов для для одинаковых значений тикеров."
   ],
   "attachments":{
    
   },
   "metadata":{
    "datalore":{
     "node_id":"2T63PRWiEEsUA2I9H7YPKu",
     "type":"MD",
     "hide_input_from_viewers":false,
     "hide_output_from_viewers":false,
     "report_properties":{
      "rowId":"9CnWh94a9O9VdATqhKPQgy"
     }
    }
   }
  },
  {
   "cell_type":"markdown",
   "source":[
    "5. Загрузите данные из файла sp500hst.txt и обозначьте столбцы в соответствии с содержимым: \"date\", \"ticker\", \"open\", \"high\", \"low\", \"close\", \"volume\". Добавьте столбец с расшифровкой названия тикера, используя данные из файла `sp_data2.csv` . В случае нехватки данных об именах тикеров корректно обработать их."
   ],
   "attachments":{
    
   },
   "metadata":{
    "datalore":{
     "node_id":"JcQ6I84ZtaxmloMLopw9Mp",
     "type":"MD",
     "hide_input_from_viewers":false,
     "hide_output_from_viewers":false,
     "report_properties":{
      "rowId":"VRP9zGX8RsuPDvTp9wY2AZ"
     }
    }
   }
  },
  {
   "cell_type":"markdown",
   "source":[
    "## Лабораторная работа №2"
   ],
   "attachments":{
    
   },
   "metadata":{
    "datalore":{
     "node_id":"eqjS4ry1gft8Ag5rZlLQ3Z",
     "type":"MD",
     "hide_input_from_viewers":false,
     "hide_output_from_viewers":false,
     "report_properties":{
      "rowId":"xxubR1ugSRO2PTEmOyyhiW"
     }
    }
   }
  },
  {
   "cell_type":"markdown",
   "source":[
    "### Базовые операции с `DataFrame`"
   ],
   "attachments":{
    
   },
   "metadata":{
    "datalore":{
     "node_id":"mahvio1q5oeLHJoCgF3PVV",
     "type":"MD",
     "hide_input_from_viewers":false,
     "hide_output_from_viewers":false,
     "report_properties":{
      "rowId":"NVwZUFY8O4xYaKNl7B8YED"
     }
    }
   }
  },
  {
   "cell_type":"markdown",
   "source":[
    "1.1 В файлах `recipes_sample.csv` и `reviews_sample.csv` находится информация об рецептах блюд и отзывах на эти рецепты соответственно. Загрузите данные из файлов в виде `pd.DataFrame` с названиями `recipes` и `reviews`. Обратите внимание на корректное считывание столбца с индексами в таблице `reviews` (безымянный столбец)."
   ],
   "attachments":{
    
   },
   "metadata":{
    "datalore":{
     "node_id":"74VWsdBZ0PvXH3oHRMBhHQ",
     "type":"MD",
     "hide_input_from_viewers":false,
     "hide_output_from_viewers":false,
     "report_properties":{
      "rowId":"WuLeVr8yGUCCn0aSNN9Pju"
     }
    }
   }
  },
  {
   "cell_type":"code",
   "source":[
    "import pandas as pd\n",
    "\n",
    "recipes = pd.read_csv(\"recipes_sample.csv\")\n",
    "reviews = pd.read_csv(\"reviews_sample.csv\", index_col=0)\n",
    "print(recipes.head())\n",
    "print(reviews.head())"
   ],
   "execution_count":1,
   "outputs":[
    {
     "name":"stdout",
     "text":[
      "                                       name     id  minutes  contributor_id  \\\n",
      "0     george s at the cove  black bean soup  44123       90           35193   \n",
      "1        healthy for them  yogurt popsicles  67664       10           91970   \n",
      "2              i can t believe it s spinach  38798       30            1533   \n",
      "3                      italian  gut busters  35173       45           22724   \n",
      "4  love is in the air  beef fondue   sauces  84797       25            4470   \n",
      "\n",
      "    submitted  n_steps                                        description  \\\n",
      "0  2002-10-25      NaN  an original recipe created by chef scott meska...   \n",
      "1  2003-07-26      NaN  my children and their friends ask for my homem...   \n",
      "2  2002-08-29      NaN            these were so go, it surprised even me.   \n",
      "3  2002-07-27      NaN  my sister-in-law made these for us at a family...   \n",
      "4  2004-02-23      4.0  i think a fondue is a very romantic casual din...   \n",
      "\n",
      "   n_ingredients  \n",
      "0           18.0  \n",
      "1            NaN  \n",
      "2            8.0  \n",
      "3            NaN  \n",
      "4            NaN  \n",
      "           user_id  recipe_id        date  rating  \\\n",
      "370476       21752      57993  2003-05-01       5   \n",
      "624300      431813     142201  2007-09-16       5   \n",
      "187037      400708     252013  2008-01-10       4   \n",
      "706134  2001852463     404716  2017-12-11       5   \n",
      "312179       95810     129396  2008-03-14       5   \n",
      "\n",
      "                                                   review  \n",
      "370476  Last week whole sides of frozen salmon fillet ...  \n",
      "624300  So simple and so tasty!  I used a yellow capsi...  \n",
      "187037  Very nice breakfast HH, easy to make and yummy...  \n",
      "706134  These are a favorite for the holidays and so e...  \n",
      "312179  Excellent soup!  The tomato flavor is just gre...  \n"
     ],
     "output_type":"stream"
    }
   ],
   "metadata":{
    "datalore":{
     "node_id":"Fsuab6ohOM2YmJxTDFzr63",
     "type":"CODE",
     "hide_input_from_viewers":true,
     "hide_output_from_viewers":true
    }
   }
  },
  {
   "cell_type":"markdown",
   "source":[
    "1.2 Для каждой из таблиц выведите основные параметры:\n",
    "* количество точек данных (строк);\n",
    "* количество столбцов;\n",
    "* тип данных каждого столбца."
   ],
   "attachments":{
    
   },
   "metadata":{
    "datalore":{
     "node_id":"bl1vUp6oJYunVzAdj5AJzs",
     "type":"MD",
     "hide_input_from_viewers":false,
     "hide_output_from_viewers":false,
     "report_properties":{
      "rowId":"TbxJnV0hW93aFb8JmsvgTD"
     }
    }
   }
  },
  {
   "cell_type":"code",
   "source":[
    "import pandas as pd\n",
    "\n",
    "recipes_df = pd.read_csv(\"recipes_sample.csv\")\n",
    "\n",
    "print(\"Number of rows: \", len(recipes_df))\n",
    "print(\"Number of columns: \", len(recipes_df.columns))\n",
    "print(\"Data type of each column: \")\n",
    "print(recipes_df.dtypes)"
   ],
   "execution_count":2,
   "outputs":[
    {
     "name":"stdout",
     "text":[
      "Number of rows:  30000\n",
      "Number of columns:  8\n",
      "Data type of each column: \n",
      "name               object\n",
      "id                  int64\n",
      "minutes             int64\n",
      "contributor_id      int64\n",
      "submitted          object\n",
      "n_steps           float64\n",
      "description        object\n",
      "n_ingredients     float64\n",
      "dtype: object\n"
     ],
     "output_type":"stream"
    }
   ],
   "metadata":{
    "datalore":{
     "node_id":"wjmLRp8uu6q8LubgLYtDSt",
     "type":"CODE",
     "hide_input_from_viewers":true,
     "hide_output_from_viewers":true
    }
   }
  },
  {
   "cell_type":"code",
   "source":[
    "import pandas as pd\n",
    "\n",
    "reviews_df = pd.read_csv(\"reviews_sample.csv\")\n",
    "\n",
    "print(\"Number of rows: \", len(reviews_df))\n",
    "print(\"Number of columns: \", len(reviews_df.columns))\n",
    "print(\"Data type of each column: \")\n",
    "print(reviews_df.dtypes)"
   ],
   "execution_count":3,
   "outputs":[
    {
     "name":"stdout",
     "text":[
      "Number of rows:  126696\n",
      "Number of columns:  6\n",
      "Data type of each column: \n",
      "Unnamed: 0     int64\n",
      "user_id        int64\n",
      "recipe_id      int64\n",
      "date          object\n",
      "rating         int64\n",
      "review        object\n",
      "dtype: object\n"
     ],
     "output_type":"stream"
    }
   ],
   "metadata":{
    "datalore":{
     "node_id":"jg0oKrV8KHel0w0BjmK0hr",
     "type":"CODE",
     "hide_input_from_viewers":true,
     "hide_output_from_viewers":true
    }
   }
  },
  {
   "cell_type":"markdown",
   "source":[
    "1.3 Исследуйте, в каких столбцах таблиц содержатся пропуски. Посчитайте долю строк, содержащих пропуски, в отношении к общему количеству строк."
   ],
   "attachments":{
    
   },
   "metadata":{
    "datalore":{
     "node_id":"6hLNkzpYxSPi2XMQoURlRR",
     "type":"MD",
     "hide_input_from_viewers":false,
     "hide_output_from_viewers":false,
     "report_properties":{
      "rowId":"9eHyscgJUXogFwctupe2gQ"
     }
    }
   }
  },
  {
   "cell_type":"code",
   "source":[
    "import pandas as pd\n",
    "\n",
    "recipes = pd.read_csv('recipes_sample.csv')\n",
    "reviews = pd.read_csv('reviews_sample.csv')\n",
    "\n",
    "print(\"Доля строк с пропусками в таблице recipes:\\n\", recipes.isna().mean())\n",
    "print(\"Доля строк с пропусками в таблице reviews:\\n\", reviews.isna().mean())"
   ],
   "execution_count":4,
   "outputs":[
    {
     "name":"stdout",
     "text":[
      "Доля строк с пропусками в таблице recipes:\n",
      " name              0.000000\n",
      "id                0.000000\n",
      "minutes           0.000000\n",
      "contributor_id    0.000000\n",
      "submitted         0.000000\n",
      "n_steps           0.373000\n",
      "description       0.020767\n",
      "n_ingredients     0.296000\n",
      "dtype: float64\n",
      "Доля строк с пропусками в таблице reviews:\n",
      " Unnamed: 0    0.000000\n",
      "user_id       0.000000\n",
      "recipe_id     0.000000\n",
      "date          0.000000\n",
      "rating        0.000000\n",
      "review        0.000134\n",
      "dtype: float64\n"
     ],
     "output_type":"stream"
    }
   ],
   "metadata":{
    "datalore":{
     "node_id":"Dzh7KsAtNXid3tZWOSPrGz",
     "type":"CODE",
     "hide_input_from_viewers":true,
     "hide_output_from_viewers":true
    }
   }
  },
  {
   "cell_type":"markdown",
   "source":[
    "1.4 Рассчитайте среднее значение для каждого из числовых столбцов (где это имеет смысл)."
   ],
   "attachments":{
    
   },
   "metadata":{
    "datalore":{
     "node_id":"gIWpKNyUUmK906OzAz7yTx",
     "type":"MD",
     "hide_input_from_viewers":false,
     "hide_output_from_viewers":false,
     "report_properties":{
      "rowId":"MILduYG0829yjnesIf50xw"
     }
    }
   }
  },
  {
   "cell_type":"code",
   "source":[
    "import pandas as pd\n",
    "\n",
    "# читаем файлы\n",
    "recipes = pd.read_csv('recipes_sample.csv')\n",
    "reviews = pd.read_csv('reviews_sample.csv')\n",
    "\n",
    "print('Среднее значение рейтинга блюда в файле recipes_sample.csv:', recipes['n_ingredients'].mean())\n",
    "print('Среднее значение рейтинга блюда в файле reviews_sample.csv:', reviews['rating'].mean())\n",
    "\n",
    "print('Среднее значение времени приготовления блюда в файле recipes_sample.csv:', recipes['minutes'].mean())\n",
    "\n",
    "print('Среднее значение длины отзыва в файле reviews_sample.csv:', reviews['recipe_id'].mean())"
   ],
   "execution_count":10,
   "outputs":[
    {
     "name":"stdout",
     "text":[
      "Среднее значение рейтинга блюда в файле recipes_sample.csv: 9.008285984848484\n",
      "Среднее значение рейтинга блюда в файле reviews_sample.csv: 4.410802235271832\n",
      "Среднее значение времени приготовления блюда в файле recipes_sample.csv: 123.35813333333333\n",
      "Среднее значение длины отзыва в файле reviews_sample.csv: 160094.38706036497\n"
     ],
     "output_type":"stream"
    }
   ],
   "metadata":{
    "datalore":{
     "node_id":"FKCenGnBSVgaV2Fe0gen78",
     "type":"CODE",
     "hide_input_from_viewers":true,
     "hide_output_from_viewers":true
    }
   }
  },
  {
   "cell_type":"markdown",
   "source":[
    "1.5 Создайте серию из 10 случайных названий рецептов."
   ],
   "attachments":{
    
   },
   "metadata":{
    "datalore":{
     "node_id":"sReqtKfrBJIX4rjc76lKYj",
     "type":"MD",
     "hide_input_from_viewers":false,
     "hide_output_from_viewers":false,
     "report_properties":{
      "rowId":"zDOhmqEurfbPpbLqwTR65R"
     }
    }
   }
  },
  {
   "cell_type":"code",
   "source":[
    "import pandas as pd\n",
    "import random\n",
    "\n",
    "# загрузка файлов с помощью pandas\n",
    "recipes_df = pd.read_csv('recipes_sample.csv')\n",
    "reviews_df = pd.read_csv('reviews_sample.csv')\n",
    "\n",
    "# выбор 10 случайных названий рецептов и вывод их на экран\n",
    "recipe_titles = recipes_df['name']\n",
    "random_recipe_titles = random.sample(list(recipe_titles), k=10)\n",
    "print(random_recipe_titles)"
   ],
   "execution_count":12,
   "outputs":[
    {
     "name":"stdout",
     "text":[
      "['plum delicious chicken', '1 dish italian 5 cheese pizza bake', 'grilled spice rubbed pork chops with peach glaze', 'soyu chicken hawaiian style', 'good broccoli casserole', 'power packed purple smoothie', 'pressure cooker risotto with vegetables du jour', 'spinach and cheese lasagna', 'pesto alla trapanese  pesto with tomato and almonds', 'chicken oregano']\n"
     ],
     "output_type":"stream"
    }
   ],
   "metadata":{
    "datalore":{
     "node_id":"7Q6bdE8SIiHAs8BPdPmyXO",
     "type":"CODE",
     "hide_input_from_viewers":true,
     "hide_output_from_viewers":true
    }
   }
  },
  {
   "cell_type":"markdown",
   "source":[
    "1.6 Измените индекс в таблице `reviews`, пронумеровав строки, начиная с нуля."
   ],
   "attachments":{
    
   },
   "metadata":{
    "datalore":{
     "node_id":"rxhAoVHxfIidNBIqIqqkUY",
     "type":"MD",
     "hide_input_from_viewers":false,
     "hide_output_from_viewers":false,
     "report_properties":{
      "rowId":"gJ1hrbLAGilgDNinVAWCRo"
     }
    }
   }
  },
  {
   "cell_type":"code",
   "source":[
    "import pandas as pd\n",
    "df = pd.read_csv('reviews_sample.csv')\n",
    "df['new_index'] = range(0, len(df))\n",
    "df.set_index('new_index', inplace=True)\n",
    "df.to_csv('reviews_sample_new_index.csv')"
   ],
   "execution_count":14,
   "outputs":[
    
   ],
   "metadata":{
    "datalore":{
     "node_id":"9qj23wL1XtdIQxvvJPL7Qw",
     "type":"CODE",
     "hide_input_from_viewers":true,
     "hide_output_from_viewers":true
    }
   }
  },
  {
   "cell_type":"markdown",
   "source":[
    "1.7 Выведите информацию о рецептах, время выполнения которых не больше 20 минут и кол-во ингредиентов в которых не больше 5."
   ],
   "attachments":{
    
   },
   "metadata":{
    "datalore":{
     "node_id":"lvHxsO2k9pcKQz45x63hhA",
     "type":"MD",
     "hide_input_from_viewers":false,
     "hide_output_from_viewers":false,
     "report_properties":{
      "rowId":"8rZtGll26kDhk8KP9VnnGw"
     }
    }
   }
  },
  {
   "cell_type":"code",
   "source":[
    "import pandas as pd\n",
    "\n",
    "recipes_df = pd.read_csv('recipes_sample.csv')  # загружаем данные из файла в DataFrame\n",
    "\n",
    "\n",
    "sample_df = recipes_df[(recipes_df['minutes'] <= 20) & (recipes_df['n_ingredients'] <= 5)]\n",
    "print(sample_df)\n",
    "\n",
    "# сохраняем DataFrame в CSV-файл\n",
    "#sample_df.to_csv('recipes_sample.csv', index=False)  # index=False, чтобы не сохранять индексы строк в файл"
   ],
   "execution_count":4,
   "outputs":[
    {
     "name":"stdout",
     "text":[
      "                                                   name      id  minutes  \\\n",
      "0                                   quick biscuit bread  302399       20   \n",
      "1                         peas  fit for a king or queen  303944       20   \n",
      "2                     hawaiian sunrise           mimosa  100837        5   \n",
      "3            tasty dish s   banana pudding in 2 minutes  286484        2   \n",
      "4                                    1 minute meatballs   11361       13   \n",
      "...                                                 ...     ...      ...   \n",
      "2014  zip and steam red potatoes with butter and garlic  304922       13   \n",
      "2015                          ziplock vanilla ice cream   74250       10   \n",
      "2016                      zucchini and corn with cheese  256177       15   \n",
      "2017               zucchini with jalapeno monterey jack  320622       10   \n",
      "2018                          zucchini with serrano ham  162411       15   \n",
      "\n",
      "      contributor_id   submitted  n_steps  \\\n",
      "0             213909  2008-05-06     11.0   \n",
      "1             213909  2008-05-16      NaN   \n",
      "2              58104  2004-09-29      4.0   \n",
      "3              47892  2008-02-13      NaN   \n",
      "4               4470  2001-09-03      NaN   \n",
      "...              ...         ...      ...   \n",
      "2014          724218  2008-05-27      9.0   \n",
      "2015           24386  2003-10-29      8.0   \n",
      "2016          305531  2007-09-29      4.0   \n",
      "2017          305531  2008-08-20      3.0   \n",
      "2018          152500  2006-03-31      6.0   \n",
      "\n",
      "                                            description  n_ingredients  \n",
      "0     this is a wonderful quick bread to make as an ...            5.0  \n",
      "1     this recipe is so simple and the flavors are s...            5.0  \n",
      "2     pineapple mimosa was changed to hawaiian sunri...            3.0  \n",
      "3     \"mmmm, i love bananas!\" a --tasty dish-- origi...            4.0  \n",
      "4     this is a real short cut for cooks in a hurry....            2.0  \n",
      "...                                                 ...            ...  \n",
      "2014  i haven't tried this yet, but i am going to so...            5.0  \n",
      "2015  a fun thing for kids to do. may want to use mi...            3.0  \n",
      "2016  from betty crocker fresh spring recipes. i lik...            5.0  \n",
      "2017                                  simple and yummy!            3.0  \n",
      "2018  this dish is from tim malzer, a german chef wh...            5.0  \n",
      "\n",
      "[2019 rows x 8 columns]\n"
     ],
     "output_type":"stream"
    }
   ],
   "metadata":{
    "datalore":{
     "node_id":"KSq5JBe8oA7YkndapXTe6M",
     "type":"CODE",
     "hide_input_from_viewers":true,
     "hide_output_from_viewers":true
    }
   }
  },
  {
   "cell_type":"markdown",
   "source":[
    "### Работа с датами в `pandas`"
   ],
   "attachments":{
    
   },
   "metadata":{
    "datalore":{
     "node_id":"8qbkk96U5RS3OX6Ge1C1EC",
     "type":"MD",
     "hide_input_from_viewers":false,
     "hide_output_from_viewers":false,
     "report_properties":{
      "rowId":"hfXOKyqZFA8GzovfIzgk1D"
     }
    }
   }
  },
  {
   "cell_type":"markdown",
   "source":[
    "2.1 Преобразуйте столбец `submitted` из таблицы `recipes` в формат времени. Модифицируйте решение задачи 1.1 так, чтобы считать столбец сразу в нужном формате."
   ],
   "attachments":{
    
   },
   "metadata":{
    "datalore":{
     "node_id":"vA9gzoGwso6a9Dfpz9sFL2",
     "type":"MD",
     "hide_input_from_viewers":false,
     "hide_output_from_viewers":false,
     "report_properties":{
      "rowId":"V9xxUOptW780NRFP8jaxDL"
     }
    }
   }
  },
  {
   "cell_type":"markdown",
   "source":[
    "2.2 Выведите информацию о рецептах, добавленных в датасет не позже 2010 года."
   ],
   "attachments":{
    
   },
   "metadata":{
    "datalore":{
     "node_id":"lw7mr9P0EPcPqU5FPVaE6C",
     "type":"MD",
     "hide_input_from_viewers":false,
     "hide_output_from_viewers":false,
     "report_properties":{
      "rowId":"BdF0PFihoBJqvhlE4HI3Mu"
     }
    }
   }
  },
  {
   "cell_type":"code",
   "source":[
    "import pandas as pd\n",
    "recipes = pd.read_csv('recipes_sample.csv')\n",
    "recipes = recipes[recipes['submitted'] <= 2010]\n",
    "recipes"
   ],
   "execution_count":7,
   "outputs":[
    {
     "ename":"TypeError",
     "evalue":"TypeError: '<=' not supported between instances of 'str' and 'int'",
     "traceback":[
      "\u001b[0;31m---------------------------------------------------------------------------",
      "Traceback (most recent call last)",
      "    at line 3 in <module>",
      "    at line 69 in new_method(self, other)",
      "    at line 44 in __le__(self, other)",
      "    at line 5502 in _cmp_method(self, other, op)",
      "    at line 284 in comparison_op(left, right, op)",
      "    at line 73 in comp_method_OBJECT_ARRAY(op, x, y)",
      "    at line 0 in pandas._libs.ops.scalar_compare()",
      "TypeError: '<=' not supported between instances of 'str' and 'int'"
     ],
     "output_type":"error"
    }
   ],
   "metadata":{
    "datalore":{
     "node_id":"flHqYpeyQ0MMrsAzAiDRyq",
     "type":"CODE",
     "hide_input_from_viewers":true,
     "hide_output_from_viewers":true
    }
   }
  },
  {
   "cell_type":"markdown",
   "source":[
    "### Работа со строковыми данными в `pandas`"
   ],
   "attachments":{
    
   },
   "metadata":{
    "datalore":{
     "node_id":"dNuiFLNylCjmUk5F2lAdQY",
     "type":"MD",
     "hide_input_from_viewers":false,
     "hide_output_from_viewers":false,
     "report_properties":{
      "rowId":"SX9kJfROX66B8GtUEbp2Tp"
     }
    }
   }
  },
  {
   "cell_type":"markdown",
   "source":[
    "3.1  Добавьте в таблицу `recipes` столбец `description_length`, в котором хранится длина описания рецепта из столбца `description`."
   ],
   "attachments":{
    
   },
   "metadata":{
    "datalore":{
     "node_id":"DaDPSlyovTgsm24R9V4ZFl",
     "type":"MD",
     "hide_input_from_viewers":false,
     "hide_output_from_viewers":false,
     "report_properties":{
      "rowId":"pqeOkOvELZK2WxXrOtjxzY"
     }
    }
   }
  },
  {
   "cell_type":"code",
   "source":[
    "recipes[\"description_length\"]=recipes[\"description\"].str.len()\n",
    "recipes"
   ],
   "execution_count":9,
   "outputs":[
    {
     "data":{
      "text\/html":[
       "<div>\n",
       "<style scoped>\n",
       "    .dataframe tbody tr th:only-of-type {\n",
       "        vertical-align: middle;\n",
       "    }\n",
       "\n",
       "    .dataframe tbody tr th {\n",
       "        vertical-align: top;\n",
       "    }\n",
       "\n",
       "    .dataframe thead th {\n",
       "        text-align: right;\n",
       "    }\n",
       "<\/style>\n",
       "<table border=\"1\" class=\"dataframe\">\n",
       "  <thead>\n",
       "    <tr style=\"text-align: right;\">\n",
       "      <th><\/th>\n",
       "      <th>name<\/th>\n",
       "      <th>id<\/th>\n",
       "      <th>minutes<\/th>\n",
       "      <th>contributor_id<\/th>\n",
       "      <th>submitted<\/th>\n",
       "      <th>n_steps<\/th>\n",
       "      <th>description<\/th>\n",
       "      <th>n_ingredients<\/th>\n",
       "      <th>description_length<\/th>\n",
       "    <\/tr>\n",
       "  <\/thead>\n",
       "  <tbody>\n",
       "    <tr>\n",
       "      <th>0<\/th>\n",
       "      <td>quick biscuit bread<\/td>\n",
       "      <td>302399<\/td>\n",
       "      <td>20<\/td>\n",
       "      <td>213909<\/td>\n",
       "      <td>2008-05-06<\/td>\n",
       "      <td>11.0<\/td>\n",
       "      <td>this is a wonderful quick bread to make as an ...<\/td>\n",
       "      <td>5.0<\/td>\n",
       "      <td>117.0<\/td>\n",
       "    <\/tr>\n",
       "    <tr>\n",
       "      <th>1<\/th>\n",
       "      <td>peas  fit for a king or queen<\/td>\n",
       "      <td>303944<\/td>\n",
       "      <td>20<\/td>\n",
       "      <td>213909<\/td>\n",
       "      <td>2008-05-16<\/td>\n",
       "      <td>NaN<\/td>\n",
       "      <td>this recipe is so simple and the flavors are s...<\/td>\n",
       "      <td>5.0<\/td>\n",
       "      <td>178.0<\/td>\n",
       "    <\/tr>\n",
       "    <tr>\n",
       "      <th>2<\/th>\n",
       "      <td>hawaiian sunrise           mimosa<\/td>\n",
       "      <td>100837<\/td>\n",
       "      <td>5<\/td>\n",
       "      <td>58104<\/td>\n",
       "      <td>2004-09-29<\/td>\n",
       "      <td>4.0<\/td>\n",
       "      <td>pineapple mimosa was changed to hawaiian sunri...<\/td>\n",
       "      <td>3.0<\/td>\n",
       "      <td>270.0<\/td>\n",
       "    <\/tr>\n",
       "    <tr>\n",
       "      <th>3<\/th>\n",
       "      <td>tasty dish s   banana pudding in 2 minutes<\/td>\n",
       "      <td>286484<\/td>\n",
       "      <td>2<\/td>\n",
       "      <td>47892<\/td>\n",
       "      <td>2008-02-13<\/td>\n",
       "      <td>NaN<\/td>\n",
       "      <td>\"mmmm, i love bananas!\" a --tasty dish-- origi...<\/td>\n",
       "      <td>4.0<\/td>\n",
       "      <td>116.0<\/td>\n",
       "    <\/tr>\n",
       "    <tr>\n",
       "      <th>4<\/th>\n",
       "      <td>1 minute meatballs<\/td>\n",
       "      <td>11361<\/td>\n",
       "      <td>13<\/td>\n",
       "      <td>4470<\/td>\n",
       "      <td>2001-09-03<\/td>\n",
       "      <td>NaN<\/td>\n",
       "      <td>this is a real short cut for cooks in a hurry....<\/td>\n",
       "      <td>2.0<\/td>\n",
       "      <td>224.0<\/td>\n",
       "    <\/tr>\n",
       "    <tr>\n",
       "      <th>...<\/th>\n",
       "      <td>...<\/td>\n",
       "      <td>...<\/td>\n",
       "      <td>...<\/td>\n",
       "      <td>...<\/td>\n",
       "      <td>...<\/td>\n",
       "      <td>...<\/td>\n",
       "      <td>...<\/td>\n",
       "      <td>...<\/td>\n",
       "      <td>...<\/td>\n",
       "    <\/tr>\n",
       "    <tr>\n",
       "      <th>2014<\/th>\n",
       "      <td>zip and steam red potatoes with butter and garlic<\/td>\n",
       "      <td>304922<\/td>\n",
       "      <td>13<\/td>\n",
       "      <td>724218<\/td>\n",
       "      <td>2008-05-27<\/td>\n",
       "      <td>9.0<\/td>\n",
       "      <td>i haven't tried this yet, but i am going to so...<\/td>\n",
       "      <td>5.0<\/td>\n",
       "      <td>183.0<\/td>\n",
       "    <\/tr>\n",
       "    <tr>\n",
       "      <th>2015<\/th>\n",
       "      <td>ziplock vanilla ice cream<\/td>\n",
       "      <td>74250<\/td>\n",
       "      <td>10<\/td>\n",
       "      <td>24386<\/td>\n",
       "      <td>2003-10-29<\/td>\n",
       "      <td>8.0<\/td>\n",
       "      <td>a fun thing for kids to do. may want to use mi...<\/td>\n",
       "      <td>3.0<\/td>\n",
       "      <td>157.0<\/td>\n",
       "    <\/tr>\n",
       "    <tr>\n",
       "      <th>2016<\/th>\n",
       "      <td>zucchini and corn with cheese<\/td>\n",
       "      <td>256177<\/td>\n",
       "      <td>15<\/td>\n",
       "      <td>305531<\/td>\n",
       "      <td>2007-09-29<\/td>\n",
       "      <td>4.0<\/td>\n",
       "      <td>from betty crocker fresh spring recipes. i lik...<\/td>\n",
       "      <td>5.0<\/td>\n",
       "      <td>100.0<\/td>\n",
       "    <\/tr>\n",
       "    <tr>\n",
       "      <th>2017<\/th>\n",
       "      <td>zucchini with jalapeno monterey jack<\/td>\n",
       "      <td>320622<\/td>\n",
       "      <td>10<\/td>\n",
       "      <td>305531<\/td>\n",
       "      <td>2008-08-20<\/td>\n",
       "      <td>3.0<\/td>\n",
       "      <td>simple and yummy!<\/td>\n",
       "      <td>3.0<\/td>\n",
       "      <td>17.0<\/td>\n",
       "    <\/tr>\n",
       "    <tr>\n",
       "      <th>2018<\/th>\n",
       "      <td>zucchini with serrano ham<\/td>\n",
       "      <td>162411<\/td>\n",
       "      <td>15<\/td>\n",
       "      <td>152500<\/td>\n",
       "      <td>2006-03-31<\/td>\n",
       "      <td>6.0<\/td>\n",
       "      <td>this dish is from tim malzer, a german chef wh...<\/td>\n",
       "      <td>5.0<\/td>\n",
       "      <td>136.0<\/td>\n",
       "    <\/tr>\n",
       "  <\/tbody>\n",
       "<\/table>\n",
       "<p>2019 rows × 9 columns<\/p>\n",
       "<\/div>"
      ]
     },
     "metadata":{
      
     },
     "output_type":"display_data"
    }
   ],
   "metadata":{
    "datalore":{
     "node_id":"3dMhyQTZeJOOzQmFEcOK1I",
     "type":"CODE",
     "hide_input_from_viewers":true,
     "hide_output_from_viewers":true
    }
   }
  },
  {
   "cell_type":"markdown",
   "source":[
    "3.2 Измените название каждого рецепта в таблице `recipes` таким образом, чтобы каждое слово в названии начиналось с прописной буквы."
   ],
   "attachments":{
    
   },
   "metadata":{
    "datalore":{
     "node_id":"tMST9rMdE8h4rlDcGyLh9Y",
     "type":"MD",
     "hide_input_from_viewers":false,
     "hide_output_from_viewers":false,
     "report_properties":{
      "rowId":"nGJ0LE1HfbnzPJTZkeIa5O"
     }
    }
   }
  },
  {
   "cell_type":"code",
   "source":[
    "recipes[\"name\"]=recipes[\"name\"].str.title()\n",
    "recipes"
   ],
   "execution_count":10,
   "outputs":[
    {
     "data":{
      "text\/html":[
       "<div>\n",
       "<style scoped>\n",
       "    .dataframe tbody tr th:only-of-type {\n",
       "        vertical-align: middle;\n",
       "    }\n",
       "\n",
       "    .dataframe tbody tr th {\n",
       "        vertical-align: top;\n",
       "    }\n",
       "\n",
       "    .dataframe thead th {\n",
       "        text-align: right;\n",
       "    }\n",
       "<\/style>\n",
       "<table border=\"1\" class=\"dataframe\">\n",
       "  <thead>\n",
       "    <tr style=\"text-align: right;\">\n",
       "      <th><\/th>\n",
       "      <th>name<\/th>\n",
       "      <th>id<\/th>\n",
       "      <th>minutes<\/th>\n",
       "      <th>contributor_id<\/th>\n",
       "      <th>submitted<\/th>\n",
       "      <th>n_steps<\/th>\n",
       "      <th>description<\/th>\n",
       "      <th>n_ingredients<\/th>\n",
       "      <th>description_length<\/th>\n",
       "    <\/tr>\n",
       "  <\/thead>\n",
       "  <tbody>\n",
       "    <tr>\n",
       "      <th>0<\/th>\n",
       "      <td>Quick Biscuit Bread<\/td>\n",
       "      <td>302399<\/td>\n",
       "      <td>20<\/td>\n",
       "      <td>213909<\/td>\n",
       "      <td>2008-05-06<\/td>\n",
       "      <td>11.0<\/td>\n",
       "      <td>this is a wonderful quick bread to make as an ...<\/td>\n",
       "      <td>5.0<\/td>\n",
       "      <td>117.0<\/td>\n",
       "    <\/tr>\n",
       "    <tr>\n",
       "      <th>1<\/th>\n",
       "      <td>Peas  Fit For A King Or Queen<\/td>\n",
       "      <td>303944<\/td>\n",
       "      <td>20<\/td>\n",
       "      <td>213909<\/td>\n",
       "      <td>2008-05-16<\/td>\n",
       "      <td>NaN<\/td>\n",
       "      <td>this recipe is so simple and the flavors are s...<\/td>\n",
       "      <td>5.0<\/td>\n",
       "      <td>178.0<\/td>\n",
       "    <\/tr>\n",
       "    <tr>\n",
       "      <th>2<\/th>\n",
       "      <td>Hawaiian Sunrise           Mimosa<\/td>\n",
       "      <td>100837<\/td>\n",
       "      <td>5<\/td>\n",
       "      <td>58104<\/td>\n",
       "      <td>2004-09-29<\/td>\n",
       "      <td>4.0<\/td>\n",
       "      <td>pineapple mimosa was changed to hawaiian sunri...<\/td>\n",
       "      <td>3.0<\/td>\n",
       "      <td>270.0<\/td>\n",
       "    <\/tr>\n",
       "    <tr>\n",
       "      <th>3<\/th>\n",
       "      <td>Tasty Dish S   Banana Pudding In 2 Minutes<\/td>\n",
       "      <td>286484<\/td>\n",
       "      <td>2<\/td>\n",
       "      <td>47892<\/td>\n",
       "      <td>2008-02-13<\/td>\n",
       "      <td>NaN<\/td>\n",
       "      <td>\"mmmm, i love bananas!\" a --tasty dish-- origi...<\/td>\n",
       "      <td>4.0<\/td>\n",
       "      <td>116.0<\/td>\n",
       "    <\/tr>\n",
       "    <tr>\n",
       "      <th>4<\/th>\n",
       "      <td>1 Minute Meatballs<\/td>\n",
       "      <td>11361<\/td>\n",
       "      <td>13<\/td>\n",
       "      <td>4470<\/td>\n",
       "      <td>2001-09-03<\/td>\n",
       "      <td>NaN<\/td>\n",
       "      <td>this is a real short cut for cooks in a hurry....<\/td>\n",
       "      <td>2.0<\/td>\n",
       "      <td>224.0<\/td>\n",
       "    <\/tr>\n",
       "    <tr>\n",
       "      <th>...<\/th>\n",
       "      <td>...<\/td>\n",
       "      <td>...<\/td>\n",
       "      <td>...<\/td>\n",
       "      <td>...<\/td>\n",
       "      <td>...<\/td>\n",
       "      <td>...<\/td>\n",
       "      <td>...<\/td>\n",
       "      <td>...<\/td>\n",
       "      <td>...<\/td>\n",
       "    <\/tr>\n",
       "    <tr>\n",
       "      <th>2014<\/th>\n",
       "      <td>Zip And Steam Red Potatoes With Butter And Garlic<\/td>\n",
       "      <td>304922<\/td>\n",
       "      <td>13<\/td>\n",
       "      <td>724218<\/td>\n",
       "      <td>2008-05-27<\/td>\n",
       "      <td>9.0<\/td>\n",
       "      <td>i haven't tried this yet, but i am going to so...<\/td>\n",
       "      <td>5.0<\/td>\n",
       "      <td>183.0<\/td>\n",
       "    <\/tr>\n",
       "    <tr>\n",
       "      <th>2015<\/th>\n",
       "      <td>Ziplock Vanilla Ice Cream<\/td>\n",
       "      <td>74250<\/td>\n",
       "      <td>10<\/td>\n",
       "      <td>24386<\/td>\n",
       "      <td>2003-10-29<\/td>\n",
       "      <td>8.0<\/td>\n",
       "      <td>a fun thing for kids to do. may want to use mi...<\/td>\n",
       "      <td>3.0<\/td>\n",
       "      <td>157.0<\/td>\n",
       "    <\/tr>\n",
       "    <tr>\n",
       "      <th>2016<\/th>\n",
       "      <td>Zucchini And Corn With Cheese<\/td>\n",
       "      <td>256177<\/td>\n",
       "      <td>15<\/td>\n",
       "      <td>305531<\/td>\n",
       "      <td>2007-09-29<\/td>\n",
       "      <td>4.0<\/td>\n",
       "      <td>from betty crocker fresh spring recipes. i lik...<\/td>\n",
       "      <td>5.0<\/td>\n",
       "      <td>100.0<\/td>\n",
       "    <\/tr>\n",
       "    <tr>\n",
       "      <th>2017<\/th>\n",
       "      <td>Zucchini With Jalapeno Monterey Jack<\/td>\n",
       "      <td>320622<\/td>\n",
       "      <td>10<\/td>\n",
       "      <td>305531<\/td>\n",
       "      <td>2008-08-20<\/td>\n",
       "      <td>3.0<\/td>\n",
       "      <td>simple and yummy!<\/td>\n",
       "      <td>3.0<\/td>\n",
       "      <td>17.0<\/td>\n",
       "    <\/tr>\n",
       "    <tr>\n",
       "      <th>2018<\/th>\n",
       "      <td>Zucchini With Serrano Ham<\/td>\n",
       "      <td>162411<\/td>\n",
       "      <td>15<\/td>\n",
       "      <td>152500<\/td>\n",
       "      <td>2006-03-31<\/td>\n",
       "      <td>6.0<\/td>\n",
       "      <td>this dish is from tim malzer, a german chef wh...<\/td>\n",
       "      <td>5.0<\/td>\n",
       "      <td>136.0<\/td>\n",
       "    <\/tr>\n",
       "  <\/tbody>\n",
       "<\/table>\n",
       "<p>2019 rows × 9 columns<\/p>\n",
       "<\/div>"
      ]
     },
     "metadata":{
      
     },
     "output_type":"display_data"
    }
   ],
   "metadata":{
    "datalore":{
     "node_id":"YSJBdkIKhxTlm539RJSNUK",
     "type":"CODE",
     "hide_input_from_viewers":true,
     "hide_output_from_viewers":true
    }
   }
  },
  {
   "cell_type":"markdown",
   "source":[
    "3.3 Добавьте в таблицу `recipes` столбец `name_word_count`, в котором хранится количество слов из названии рецепта (считайте, что слова в названии разделяются только пробелами). Обратите внимание, что между словами может располагаться несколько пробелов подряд."
   ],
   "attachments":{
    
   },
   "metadata":{
    "datalore":{
     "node_id":"FY2OT9vvek1CvWNvnrJbaJ",
     "type":"MD",
     "hide_input_from_viewers":false,
     "hide_output_from_viewers":false,
     "report_properties":{
      "rowId":"WRxWExo5j9w1l959SXAZ8j"
     }
    }
   }
  },
  {
   "cell_type":"code",
   "source":[
    "recipes[\"name_word_count\"] = recipes[\"name\"].str.split().str.len()\n",
    "recipes"
   ],
   "execution_count":11,
   "outputs":[
    {
     "data":{
      "text\/html":[
       "<div>\n",
       "<style scoped>\n",
       "    .dataframe tbody tr th:only-of-type {\n",
       "        vertical-align: middle;\n",
       "    }\n",
       "\n",
       "    .dataframe tbody tr th {\n",
       "        vertical-align: top;\n",
       "    }\n",
       "\n",
       "    .dataframe thead th {\n",
       "        text-align: right;\n",
       "    }\n",
       "<\/style>\n",
       "<table border=\"1\" class=\"dataframe\">\n",
       "  <thead>\n",
       "    <tr style=\"text-align: right;\">\n",
       "      <th><\/th>\n",
       "      <th>name<\/th>\n",
       "      <th>id<\/th>\n",
       "      <th>minutes<\/th>\n",
       "      <th>contributor_id<\/th>\n",
       "      <th>submitted<\/th>\n",
       "      <th>n_steps<\/th>\n",
       "      <th>description<\/th>\n",
       "      <th>n_ingredients<\/th>\n",
       "      <th>description_length<\/th>\n",
       "      <th>name_word_count<\/th>\n",
       "    <\/tr>\n",
       "  <\/thead>\n",
       "  <tbody>\n",
       "    <tr>\n",
       "      <th>0<\/th>\n",
       "      <td>Quick Biscuit Bread<\/td>\n",
       "      <td>302399<\/td>\n",
       "      <td>20<\/td>\n",
       "      <td>213909<\/td>\n",
       "      <td>2008-05-06<\/td>\n",
       "      <td>11.0<\/td>\n",
       "      <td>this is a wonderful quick bread to make as an ...<\/td>\n",
       "      <td>5.0<\/td>\n",
       "      <td>117.0<\/td>\n",
       "      <td>3<\/td>\n",
       "    <\/tr>\n",
       "    <tr>\n",
       "      <th>1<\/th>\n",
       "      <td>Peas  Fit For A King Or Queen<\/td>\n",
       "      <td>303944<\/td>\n",
       "      <td>20<\/td>\n",
       "      <td>213909<\/td>\n",
       "      <td>2008-05-16<\/td>\n",
       "      <td>NaN<\/td>\n",
       "      <td>this recipe is so simple and the flavors are s...<\/td>\n",
       "      <td>5.0<\/td>\n",
       "      <td>178.0<\/td>\n",
       "      <td>7<\/td>\n",
       "    <\/tr>\n",
       "    <tr>\n",
       "      <th>2<\/th>\n",
       "      <td>Hawaiian Sunrise           Mimosa<\/td>\n",
       "      <td>100837<\/td>\n",
       "      <td>5<\/td>\n",
       "      <td>58104<\/td>\n",
       "      <td>2004-09-29<\/td>\n",
       "      <td>4.0<\/td>\n",
       "      <td>pineapple mimosa was changed to hawaiian sunri...<\/td>\n",
       "      <td>3.0<\/td>\n",
       "      <td>270.0<\/td>\n",
       "      <td>3<\/td>\n",
       "    <\/tr>\n",
       "    <tr>\n",
       "      <th>3<\/th>\n",
       "      <td>Tasty Dish S   Banana Pudding In 2 Minutes<\/td>\n",
       "      <td>286484<\/td>\n",
       "      <td>2<\/td>\n",
       "      <td>47892<\/td>\n",
       "      <td>2008-02-13<\/td>\n",
       "      <td>NaN<\/td>\n",
       "      <td>\"mmmm, i love bananas!\" a --tasty dish-- origi...<\/td>\n",
       "      <td>4.0<\/td>\n",
       "      <td>116.0<\/td>\n",
       "      <td>8<\/td>\n",
       "    <\/tr>\n",
       "    <tr>\n",
       "      <th>4<\/th>\n",
       "      <td>1 Minute Meatballs<\/td>\n",
       "      <td>11361<\/td>\n",
       "      <td>13<\/td>\n",
       "      <td>4470<\/td>\n",
       "      <td>2001-09-03<\/td>\n",
       "      <td>NaN<\/td>\n",
       "      <td>this is a real short cut for cooks in a hurry....<\/td>\n",
       "      <td>2.0<\/td>\n",
       "      <td>224.0<\/td>\n",
       "      <td>3<\/td>\n",
       "    <\/tr>\n",
       "    <tr>\n",
       "      <th>...<\/th>\n",
       "      <td>...<\/td>\n",
       "      <td>...<\/td>\n",
       "      <td>...<\/td>\n",
       "      <td>...<\/td>\n",
       "      <td>...<\/td>\n",
       "      <td>...<\/td>\n",
       "      <td>...<\/td>\n",
       "      <td>...<\/td>\n",
       "      <td>...<\/td>\n",
       "      <td>...<\/td>\n",
       "    <\/tr>\n",
       "    <tr>\n",
       "      <th>2014<\/th>\n",
       "      <td>Zip And Steam Red Potatoes With Butter And Garlic<\/td>\n",
       "      <td>304922<\/td>\n",
       "      <td>13<\/td>\n",
       "      <td>724218<\/td>\n",
       "      <td>2008-05-27<\/td>\n",
       "      <td>9.0<\/td>\n",
       "      <td>i haven't tried this yet, but i am going to so...<\/td>\n",
       "      <td>5.0<\/td>\n",
       "      <td>183.0<\/td>\n",
       "      <td>9<\/td>\n",
       "    <\/tr>\n",
       "    <tr>\n",
       "      <th>2015<\/th>\n",
       "      <td>Ziplock Vanilla Ice Cream<\/td>\n",
       "      <td>74250<\/td>\n",
       "      <td>10<\/td>\n",
       "      <td>24386<\/td>\n",
       "      <td>2003-10-29<\/td>\n",
       "      <td>8.0<\/td>\n",
       "      <td>a fun thing for kids to do. may want to use mi...<\/td>\n",
       "      <td>3.0<\/td>\n",
       "      <td>157.0<\/td>\n",
       "      <td>4<\/td>\n",
       "    <\/tr>\n",
       "    <tr>\n",
       "      <th>2016<\/th>\n",
       "      <td>Zucchini And Corn With Cheese<\/td>\n",
       "      <td>256177<\/td>\n",
       "      <td>15<\/td>\n",
       "      <td>305531<\/td>\n",
       "      <td>2007-09-29<\/td>\n",
       "      <td>4.0<\/td>\n",
       "      <td>from betty crocker fresh spring recipes. i lik...<\/td>\n",
       "      <td>5.0<\/td>\n",
       "      <td>100.0<\/td>\n",
       "      <td>5<\/td>\n",
       "    <\/tr>\n",
       "    <tr>\n",
       "      <th>2017<\/th>\n",
       "      <td>Zucchini With Jalapeno Monterey Jack<\/td>\n",
       "      <td>320622<\/td>\n",
       "      <td>10<\/td>\n",
       "      <td>305531<\/td>\n",
       "      <td>2008-08-20<\/td>\n",
       "      <td>3.0<\/td>\n",
       "      <td>simple and yummy!<\/td>\n",
       "      <td>3.0<\/td>\n",
       "      <td>17.0<\/td>\n",
       "      <td>5<\/td>\n",
       "    <\/tr>\n",
       "    <tr>\n",
       "      <th>2018<\/th>\n",
       "      <td>Zucchini With Serrano Ham<\/td>\n",
       "      <td>162411<\/td>\n",
       "      <td>15<\/td>\n",
       "      <td>152500<\/td>\n",
       "      <td>2006-03-31<\/td>\n",
       "      <td>6.0<\/td>\n",
       "      <td>this dish is from tim malzer, a german chef wh...<\/td>\n",
       "      <td>5.0<\/td>\n",
       "      <td>136.0<\/td>\n",
       "      <td>4<\/td>\n",
       "    <\/tr>\n",
       "  <\/tbody>\n",
       "<\/table>\n",
       "<p>2019 rows × 10 columns<\/p>\n",
       "<\/div>"
      ]
     },
     "metadata":{
      
     },
     "output_type":"display_data"
    }
   ],
   "metadata":{
    "datalore":{
     "node_id":"dUZl2MTpsfdJrtGtgdmHfP",
     "type":"CODE",
     "hide_input_from_viewers":true,
     "hide_output_from_viewers":true
    }
   }
  },
  {
   "cell_type":"markdown",
   "source":[
    "### Группировки таблиц `pd.DataFrame`"
   ],
   "attachments":{
    
   },
   "metadata":{
    "datalore":{
     "node_id":"GIh5EbJ8qHF1DB6WZ1Bfwe",
     "type":"MD",
     "hide_input_from_viewers":false,
     "hide_output_from_viewers":false,
     "report_properties":{
      "rowId":"q3vCY99Y8zZvdpr0MYBRHd"
     }
    }
   }
  },
  {
   "cell_type":"markdown",
   "source":[
    "4.1 Посчитайте количество рецептов, представленных каждым из участников (`contributor_id`). Какой участник добавил максимальное кол-во рецептов?"
   ],
   "attachments":{
    
   },
   "metadata":{
    "datalore":{
     "node_id":"nRjU72Fkqblx0pJBHp49Ej",
     "type":"MD",
     "hide_input_from_viewers":false,
     "hide_output_from_viewers":false,
     "report_properties":{
      "rowId":"cniRBubFYSrkwl8hEh8R8y"
     }
    }
   }
  },
  {
   "cell_type":"code",
   "source":[
    "recipes.groupby(\"contributor_id\").describe()['id']['count']"
   ],
   "execution_count":12,
   "outputs":[
    {
     "data":{
      "text\/html":[
       "<pre>contributor_id\n",
       "1533          14.0\n",
       "1534           5.0\n",
       "1535           7.0\n",
       "1538           1.0\n",
       "1551           1.0\n",
       "              ... \n",
       "1800069055     1.0\n",
       "1802673856     1.0\n",
       "1803067410     1.0\n",
       "1803304515     1.0\n",
       "2001051242     1.0\n",
       "Name: count, Length: 1217, dtype: float64<\/pre>"
      ]
     },
     "metadata":{
      
     },
     "output_type":"display_data"
    }
   ],
   "metadata":{
    "datalore":{
     "node_id":"kz6ieuiQeqWQiM88ILgh4O",
     "type":"CODE",
     "hide_input_from_viewers":true,
     "hide_output_from_viewers":true
    }
   }
  },
  {
   "cell_type":"markdown",
   "source":[
    "4.2 Посчитайте средний рейтинг к каждому из рецептов. Для скольких рецептов отсутствуют отзывы? Обратите внимание, что отзыв с нулевым рейтингом или не заполненным текстовым описанием не считается отсутствующим."
   ],
   "attachments":{
    
   },
   "metadata":{
    "datalore":{
     "node_id":"yWNdzwv1O0wWEuiOMJfttt",
     "type":"MD",
     "hide_input_from_viewers":false,
     "hide_output_from_viewers":false,
     "report_properties":{
      "rowId":"wuLiRYrxycBuGmiSorMGtx"
     }
    }
   }
  },
  {
   "cell_type":"code",
   "source":[
    "import pandas as pd\n",
    "\n",
    "reviews = pd.read_csv(\"reviews_sample.csv\")\n",
    "\n",
    "reviews.groupby(\"recipe_id\").describe()['rating']['mean']\n",
    "\n",
    "reviews['review'].isnull().sum()"
   ],
   "execution_count":14,
   "outputs":[
    {
     "ename":"KeyboardInterrupt",
     "evalue":"KeyboardInterrupt: ",
     "traceback":[
      "\u001b[0;31m---------------------------------------------------------------------------",
      "Traceback (most recent call last)",
      "    at line 5 in <module>",
      "    at line 1973 in describe(self, **kwargs)",
      "    at line 1275 in apply(self, func, *args, **kwargs)",
      "    at line 1309 in _python_apply_general(self, f, data)",
      "    at line 815 in apply(self, f, data, axis)",
      "    at line 1360 in fast_apply(self, f, sdata, names)",
      "    at line 0 in pandas._libs.reduction.apply_frame_axis0()",
      "    at line 1973 in <lambda>(x)",
      "    at line 10024 in describe(self, percentiles, include, exclude, datetime_is_numeric)",
      "    at line 95 in describe_ndframe(obj, include, exclude, datetime_is_numeric, percentiles)",
      "    at line 175 in describe(self, percentiles)",
      "    at line 241 in describe_numeric_1d(series, percentiles)",
      "    at line 10628 in std(self, axis, skipna, level, ddof, numeric_only, **kwargs)",
      "    at line 10320 in std(self, axis, skipna, level, ddof, numeric_only, **kwargs)",
      "    at line 10299 in _stat_function_ddof(self, name, func, axis, skipna, level, ddof, numeric_only, **kwargs)",
      "    at line 4392 in _reduce(self, op, name, axis, skipna, numeric_only, filter_type, **kwds)",
      "    at line 156 in f(values, axis, skipna, **kwds)",
      "    at line 871 in nanstd(values, axis, skipna, ddof, mask)",
      "    at line 314 in _get_values(values, skipna, fill_value, fill_value_typ, mask)",
      "    at line 1177 in needs_i8_conversion(arr_or_dtype)",
      "KeyboardInterrupt: "
     ],
     "output_type":"error"
    }
   ],
   "metadata":{
    "datalore":{
     "node_id":"HsOs07Y8vztupPl6ME2r48",
     "type":"CODE",
     "hide_input_from_viewers":true,
     "hide_output_from_viewers":true
    }
   }
  },
  {
   "cell_type":"markdown",
   "source":[
    "4.3 Посчитайте количество рецептов с разбивкой по годам создания."
   ],
   "attachments":{
    
   },
   "metadata":{
    "datalore":{
     "node_id":"x5iwJJjnsY2YVOz77PIIND",
     "type":"MD",
     "hide_input_from_viewers":false,
     "hide_output_from_viewers":false,
     "report_properties":{
      "rowId":"42KiudG8Fd5k8aLCEZ6iMO"
     }
    }
   }
  },
  {
   "cell_type":"code",
   "source":[
    "recipes['id'].groupby(recipes['submitted'].map(lambda x: x.year)).count()"
   ],
   "execution_count":15,
   "outputs":[
    {
     "ename":"AttributeError",
     "evalue":"AttributeError: 'str' object has no attribute 'year'",
     "traceback":[
      "\u001b[0;31m---------------------------------------------------------------------------",
      "Traceback (most recent call last)",
      "    at line 1 in <module>",
      "    at line 4161 in map(self, arg, na_action)",
      "    at line 870 in _map_values(self, mapper, na_action)",
      "    at line 0 in pandas._libs.lib.map_infer()",
      "    at line 1 in <lambda>(x)",
      "AttributeError: 'str' object has no attribute 'year'"
     ],
     "output_type":"error"
    }
   ],
   "metadata":{
    "datalore":{
     "node_id":"bcRWUlbkA7eGMqt41XQX76",
     "type":"CODE",
     "hide_input_from_viewers":true,
     "hide_output_from_viewers":true
    }
   }
  },
  {
   "cell_type":"markdown",
   "source":[
    "### Объединение таблиц `pd.DataFrame`"
   ],
   "attachments":{
    
   },
   "metadata":{
    "datalore":{
     "node_id":"boDr6SGs1IPhjGE98BTvjW",
     "type":"MD",
     "hide_input_from_viewers":false,
     "hide_output_from_viewers":false,
     "report_properties":{
      "rowId":"J0czBCeqikowe9boUaIoxi"
     }
    }
   }
  },
  {
   "cell_type":"markdown",
   "source":[
    "5.1 При помощи объединения таблиц, создайте `DataFrame`, состоящий из четырех столбцов: `id`, `name`, `user_id`, `rating`. Рецепты, на которые не оставлен ни один отзыв, должны отсутствовать в полученной таблице. Подтвердите правильность работы вашего кода, выбрав рецепт, не имеющий отзывов, и попытавшись найти строку, соответствующую этому рецепту, в полученном `DataFrame`."
   ],
   "attachments":{
    
   },
   "metadata":{
    "datalore":{
     "node_id":"MiZRVuQErdyCTKqXoHB8dW",
     "type":"MD",
     "hide_input_from_viewers":false,
     "hide_output_from_viewers":false,
     "report_properties":{
      "rowId":"DeAjcOjKQN9EdAHIzgvHVS"
     }
    }
   }
  },
  {
   "cell_type":"code",
   "source":[
    "dt= recipes.merge(reviews[[\"user_id\",\"rating\"]], left_on='contributor_id', right_on='user_id', how=\"right\").dropna()\n",
    "dr=dt[[\"id\", \"name\", \"user_id\", \"rating\"]]"
   ],
   "execution_count":19,
   "outputs":[
    
   ],
   "metadata":{
    "datalore":{
     "node_id":"ezOwXDFJfceps16OQGYnV2",
     "type":"CODE",
     "hide_input_from_viewers":true,
     "hide_output_from_viewers":true
    }
   }
  },
  {
   "cell_type":"markdown",
   "source":[
    "5.2 При помощи объединения таблиц и группировок, создайте `DataFrame`, состоящий из трех столбцов: `recipe_id`, `name`, `review_count`, где столбец `review_count` содержит кол-во отзывов, оставленных на рецепт `recipe_id`. У рецептов, на которые не оставлен ни один отзыв, в столбце `review_count` должен быть указан 0. Подтвердите правильность работы вашего кода, выбрав рецепт, не имеющий отзывов, и найдя строку, соответствующую этому рецепту, в полученном `DataFrame`."
   ],
   "attachments":{
    
   },
   "metadata":{
    "datalore":{
     "node_id":"fb8tMNcvmEuUyV14Qyscap",
     "type":"MD",
     "hide_input_from_viewers":false,
     "hide_output_from_viewers":false,
     "report_properties":{
      "rowId":"BSKTVjhSngkpUQeLG5fmXc"
     }
    }
   }
  },
  {
   "cell_type":"code",
   "source":[
    "dt= recipes.merge(reviews[[\"user_id\",\"rating\"]], left_on='contributor_id', right_on='user_id', how=\"right\").dropna()\n",
    "dr1=dt[[\"id\", \"name\", \"user_id\", \"rating\"]]\n",
    "\n",
    "dt[dt['id']==223349]"
   ],
   "execution_count":17,
   "outputs":[
    {
     "data":{
      "text\/html":[
       "<div>\n",
       "<style scoped>\n",
       "    .dataframe tbody tr th:only-of-type {\n",
       "        vertical-align: middle;\n",
       "    }\n",
       "\n",
       "    .dataframe tbody tr th {\n",
       "        vertical-align: top;\n",
       "    }\n",
       "\n",
       "    .dataframe thead th {\n",
       "        text-align: right;\n",
       "    }\n",
       "<\/style>\n",
       "<table border=\"1\" class=\"dataframe\">\n",
       "  <thead>\n",
       "    <tr style=\"text-align: right;\">\n",
       "      <th><\/th>\n",
       "      <th>name<\/th>\n",
       "      <th>id<\/th>\n",
       "      <th>minutes<\/th>\n",
       "      <th>contributor_id<\/th>\n",
       "      <th>submitted<\/th>\n",
       "      <th>n_steps<\/th>\n",
       "      <th>description<\/th>\n",
       "      <th>n_ingredients<\/th>\n",
       "      <th>description_length<\/th>\n",
       "      <th>name_word_count<\/th>\n",
       "      <th>user_id<\/th>\n",
       "      <th>rating<\/th>\n",
       "    <\/tr>\n",
       "  <\/thead>\n",
       "  <tbody>\n",
       "  <\/tbody>\n",
       "<\/table>\n",
       "<\/div>"
      ]
     },
     "metadata":{
      
     },
     "output_type":"display_data"
    }
   ],
   "metadata":{
    "datalore":{
     "node_id":"xBE16i1y5zVhxOb6UuNgvl",
     "type":"CODE",
     "hide_input_from_viewers":true,
     "hide_output_from_viewers":true
    }
   }
  },
  {
   "cell_type":"markdown",
   "source":[
    "5.3. Выясните, рецепты, добавленные в каком году, имеют наименьший средний рейтинг?"
   ],
   "attachments":{
    
   },
   "metadata":{
    "datalore":{
     "node_id":"XJQLVDzE5fzJE8hWPgitYf",
     "type":"MD",
     "hide_input_from_viewers":false,
     "hide_output_from_viewers":false,
     "report_properties":{
      "rowId":"3n1AxotD0UwJq3dzXMtTS0"
     }
    }
   }
  },
  {
   "cell_type":"code",
   "source":[
    "dt.groupby(pd.to_datetime(dt['submitted'], format='%Y-%m-%d').dt.year)[['rating']].mean().idxmax()\n",
    "\n",
    "dt"
   ],
   "execution_count":18,
   "outputs":[
    {
     "data":{
      "text\/html":[
       "<div>\n",
       "<style scoped>\n",
       "    .dataframe tbody tr th:only-of-type {\n",
       "        vertical-align: middle;\n",
       "    }\n",
       "\n",
       "    .dataframe tbody tr th {\n",
       "        vertical-align: top;\n",
       "    }\n",
       "\n",
       "    .dataframe thead th {\n",
       "        text-align: right;\n",
       "    }\n",
       "<\/style>\n",
       "<table border=\"1\" class=\"dataframe\">\n",
       "  <thead>\n",
       "    <tr style=\"text-align: right;\">\n",
       "      <th><\/th>\n",
       "      <th>name<\/th>\n",
       "      <th>id<\/th>\n",
       "      <th>minutes<\/th>\n",
       "      <th>contributor_id<\/th>\n",
       "      <th>submitted<\/th>\n",
       "      <th>n_steps<\/th>\n",
       "      <th>description<\/th>\n",
       "      <th>n_ingredients<\/th>\n",
       "      <th>description_length<\/th>\n",
       "      <th>name_word_count<\/th>\n",
       "      <th>user_id<\/th>\n",
       "      <th>rating<\/th>\n",
       "    <\/tr>\n",
       "  <\/thead>\n",
       "  <tbody>\n",
       "    <tr>\n",
       "      <th>0<\/th>\n",
       "      <td>Diabetic Instant Cocoa Mix<\/td>\n",
       "      <td>19073.0<\/td>\n",
       "      <td>5.0<\/td>\n",
       "      <td>21752.0<\/td>\n",
       "      <td>2002-02-07<\/td>\n",
       "      <td>4.0<\/td>\n",
       "      <td>i got this from a diabetic friend in the state...<\/td>\n",
       "      <td>5.0<\/td>\n",
       "      <td>98.0<\/td>\n",
       "      <td>4.0<\/td>\n",
       "      <td>21752<\/td>\n",
       "      <td>5<\/td>\n",
       "    <\/tr>\n",
       "    <tr>\n",
       "      <th>1<\/th>\n",
       "      <td>Honeyed Pineapple<\/td>\n",
       "      <td>16227.0<\/td>\n",
       "      <td>20.0<\/td>\n",
       "      <td>21752.0<\/td>\n",
       "      <td>2001-12-24<\/td>\n",
       "      <td>11.0<\/td>\n",
       "      <td>sublimely simple and tastes great!<\/td>\n",
       "      <td>2.0<\/td>\n",
       "      <td>34.0<\/td>\n",
       "      <td>2.0<\/td>\n",
       "      <td>21752<\/td>\n",
       "      <td>5<\/td>\n",
       "    <\/tr>\n",
       "    <tr>\n",
       "      <th>3<\/th>\n",
       "      <td>Rice Krispies Funnel Kisses<\/td>\n",
       "      <td>16934.0<\/td>\n",
       "      <td>17.0<\/td>\n",
       "      <td>21752.0<\/td>\n",
       "      <td>2002-01-08<\/td>\n",
       "      <td>12.0<\/td>\n",
       "      <td>this is a fun recipe to do with the kids. you ...<\/td>\n",
       "      <td>3.0<\/td>\n",
       "      <td>124.0<\/td>\n",
       "      <td>4.0<\/td>\n",
       "      <td>21752<\/td>\n",
       "      <td>5<\/td>\n",
       "    <\/tr>\n",
       "    <tr>\n",
       "      <th>5<\/th>\n",
       "      <td>Strawberries And Cream Cocktail<\/td>\n",
       "      <td>29462.0<\/td>\n",
       "      <td>5.0<\/td>\n",
       "      <td>21752.0<\/td>\n",
       "      <td>2002-05-29<\/td>\n",
       "      <td>3.0<\/td>\n",
       "      <td>really yummy. make sure you drink this while w...<\/td>\n",
       "      <td>4.0<\/td>\n",
       "      <td>110.0<\/td>\n",
       "      <td>4.0<\/td>\n",
       "      <td>21752<\/td>\n",
       "      <td>5<\/td>\n",
       "    <\/tr>\n",
       "    <tr>\n",
       "      <th>9<\/th>\n",
       "      <td>New Orleans Buck<\/td>\n",
       "      <td>259779.0<\/td>\n",
       "      <td>5.0<\/td>\n",
       "      <td>431813.0<\/td>\n",
       "      <td>2007-10-17<\/td>\n",
       "      <td>3.0<\/td>\n",
       "      <td>from cocktail jen.  this is basically a collin...<\/td>\n",
       "      <td>4.0<\/td>\n",
       "      <td>94.0<\/td>\n",
       "      <td>3.0<\/td>\n",
       "      <td>431813<\/td>\n",
       "      <td>5<\/td>\n",
       "    <\/tr>\n",
       "    <tr>\n",
       "      <th>...<\/th>\n",
       "      <td>...<\/td>\n",
       "      <td>...<\/td>\n",
       "      <td>...<\/td>\n",
       "      <td>...<\/td>\n",
       "      <td>...<\/td>\n",
       "      <td>...<\/td>\n",
       "      <td>...<\/td>\n",
       "      <td>...<\/td>\n",
       "      <td>...<\/td>\n",
       "      <td>...<\/td>\n",
       "      <td>...<\/td>\n",
       "      <td>...<\/td>\n",
       "    <\/tr>\n",
       "    <tr>\n",
       "      <th>249058<\/th>\n",
       "      <td>Vanilla Syrup<\/td>\n",
       "      <td>56460.0<\/td>\n",
       "      <td>15.0<\/td>\n",
       "      <td>17803.0<\/td>\n",
       "      <td>2003-03-17<\/td>\n",
       "      <td>4.0<\/td>\n",
       "      <td>used with vanilla-spiked hot cocoa recipe #564...<\/td>\n",
       "      <td>3.0<\/td>\n",
       "      <td>103.0<\/td>\n",
       "      <td>2.0<\/td>\n",
       "      <td>17803<\/td>\n",
       "      <td>5<\/td>\n",
       "    <\/tr>\n",
       "    <tr>\n",
       "      <th>249062<\/th>\n",
       "      <td>Ashkenazi Charoset<\/td>\n",
       "      <td>367885.0<\/td>\n",
       "      <td>5.0<\/td>\n",
       "      <td>724631.0<\/td>\n",
       "      <td>2009-04-25<\/td>\n",
       "      <td>2.0<\/td>\n",
       "      <td>entered for safe-keeping for zwt.   from oukos...<\/td>\n",
       "      <td>4.0<\/td>\n",
       "      <td>244.0<\/td>\n",
       "      <td>2.0<\/td>\n",
       "      <td>724631<\/td>\n",
       "      <td>5<\/td>\n",
       "    <\/tr>\n",
       "    <tr>\n",
       "      <th>249063<\/th>\n",
       "      <td>Cherries Jubilee For A Healthy Heart<\/td>\n",
       "      <td>291938.0<\/td>\n",
       "      <td>17.0<\/td>\n",
       "      <td>724631.0<\/td>\n",
       "      <td>2008-03-14<\/td>\n",
       "      <td>6.0<\/td>\n",
       "      <td>a sweet ending that won't break the diet.  don...<\/td>\n",
       "      <td>5.0<\/td>\n",
       "      <td>458.0<\/td>\n",
       "      <td>6.0<\/td>\n",
       "      <td>724631<\/td>\n",
       "      <td>5<\/td>\n",
       "    <\/tr>\n",
       "    <tr>\n",
       "      <th>249065<\/th>\n",
       "      <td>Let S Go Green Fruit And Vegetable Juice<\/td>\n",
       "      <td>322902.0<\/td>\n",
       "      <td>4.0<\/td>\n",
       "      <td>724631.0<\/td>\n",
       "      <td>2008-09-03<\/td>\n",
       "      <td>3.0<\/td>\n",
       "      <td>entered for safe-keeping, great for the vita-m...<\/td>\n",
       "      <td>5.0<\/td>\n",
       "      <td>270.0<\/td>\n",
       "      <td>8.0<\/td>\n",
       "      <td>724631<\/td>\n",
       "      <td>5<\/td>\n",
       "    <\/tr>\n",
       "    <tr>\n",
       "      <th>249066<\/th>\n",
       "      <td>Mandarine Napoleon<\/td>\n",
       "      <td>375148.0<\/td>\n",
       "      <td>5.0<\/td>\n",
       "      <td>724631.0<\/td>\n",
       "      <td>2009-05-31<\/td>\n",
       "      <td>3.0<\/td>\n",
       "      <td>delicious corsican drink to honor napoleon, wh...<\/td>\n",
       "      <td>5.0<\/td>\n",
       "      <td>1038.0<\/td>\n",
       "      <td>2.0<\/td>\n",
       "      <td>724631<\/td>\n",
       "      <td>5<\/td>\n",
       "    <\/tr>\n",
       "  <\/tbody>\n",
       "<\/table>\n",
       "<p>93455 rows × 12 columns<\/p>\n",
       "<\/div>"
      ]
     },
     "metadata":{
      
     },
     "output_type":"display_data"
    }
   ],
   "metadata":{
    "datalore":{
     "node_id":"PIstB6hyeX7hPgWPaDprBw",
     "type":"CODE",
     "hide_input_from_viewers":true,
     "hide_output_from_viewers":true
    }
   }
  },
  {
   "cell_type":"markdown",
   "source":[
    "### Сохранение таблиц `pd.DataFrame`"
   ],
   "attachments":{
    
   },
   "metadata":{
    "datalore":{
     "node_id":"EiHzgKA2BSCwYkgzJv4CQt",
     "type":"MD",
     "hide_input_from_viewers":false,
     "hide_output_from_viewers":false,
     "report_properties":{
      "rowId":"wLsQFgHbAaddveJwtXWTSO"
     }
    }
   }
  },
  {
   "cell_type":"markdown",
   "source":[
    "6.1 Отсортируйте таблицу в порядке убывания величины столбца `name_word_count` и сохраните результаты выполнения заданий 3.1-3.3 в csv файл. "
   ],
   "attachments":{
    
   },
   "metadata":{
    "datalore":{
     "node_id":"j80to2CW210B8GmvKH3OPt",
     "type":"MD",
     "hide_input_from_viewers":false,
     "hide_output_from_viewers":false,
     "report_properties":{
      "rowId":"hW2nlUYlLf87fKpQ82OmDB"
     }
    }
   }
  },
  {
   "cell_type":"code",
   "source":[
    "recipes[\"description_length\"] =recipes[\"description\"].str.len()\n",
    "recipes[\"description\"].str.title()\n",
    "recipes[\"name_word_count\"] = recipes[\"name\"].str.split().str.len()\n",
    "recipes.sort_values(\"name_word_count\")\n",
    "recipes.to_csv('ex3.csv')"
   ],
   "execution_count":16,
   "outputs":[
    
   ],
   "metadata":{
    "datalore":{
     "node_id":"OWhce4LODODShmL4ZgOCs3",
     "type":"CODE",
     "hide_input_from_viewers":true,
     "hide_output_from_viewers":true
    }
   }
  },
  {
   "cell_type":"markdown",
   "source":[
    "6.2 Воспользовавшись `pd.ExcelWriter`, cохраните результаты 5.1 и 5.2 в файл: на лист с названием `Рецепты с оценками` сохраните результаты выполнения 5.1; на лист с названием `Количество отзывов по рецептам` сохраните результаты выполнения 5.2."
   ],
   "attachments":{
    
   },
   "metadata":{
    "datalore":{
     "node_id":"JMQQaX3abPBC0XlWVLyISt",
     "type":"MD",
     "hide_input_from_viewers":false,
     "hide_output_from_viewers":false,
     "report_properties":{
      "rowId":"8lxXlmoj7R8jjFGgsXxsQ9"
     }
    }
   }
  },
  {
   "cell_type":"code",
   "source":[
    "\n",
    "pdd = pd.ExcelWriter('ex5.xlsx')\n",
    "dr.to_excel(pdd,'Рецепты с оценками')\n",
    "pdd.save()"
   ],
   "execution_count":7,
   "outputs":[
    {
     "ename":"NameError",
     "evalue":"NameError: name 'dr' is not defined",
     "traceback":[
      "\u001b[0;31m---------------------------------------------------------------------------",
      "Traceback (most recent call last)",
      "    at line 2 in <module>",
      "NameError: name 'dr' is not defined"
     ],
     "output_type":"error"
    }
   ],
   "metadata":{
    "datalore":{
     "node_id":"70tPu9NfwwMJmtkyCJGXoJ",
     "type":"CODE",
     "hide_input_from_viewers":false,
     "hide_output_from_viewers":false,
     "report_properties":{
      "rowId":"gybw5PBSbOM3r78v6hLyyP"
     }
    }
   }
  },
  {
   "cell_type":"code",
   "source":[
    
   ],
   "execution_count":null,
   "outputs":[
    
   ],
   "metadata":{
    "datalore":{
     "node_id":"1cAtqeVRrJJHvaNi0Mcihq",
     "type":"CODE",
     "hide_input_from_viewers":false,
     "hide_output_from_viewers":false,
     "report_properties":{
      "rowId":"veE2GNSRWu2gawt0xL6PtO"
     }
    }
   }
  },
  {
   "cell_type":"markdown",
   "source":[
    "#### [версия 2]\n",
    "* Уточнены формулировки задач 1.1, 3.3, 4.2, 5.1, 5.2, 5.3"
   ],
   "attachments":{
    
   },
   "metadata":{
    "datalore":{
     "node_id":"kinX8ePNaq2K5wRf8VMpha",
     "type":"MD",
     "hide_input_from_viewers":false,
     "hide_output_from_viewers":false,
     "report_properties":{
      "rowId":"e6GevrOJu1YWoEUBKJRSdG"
     }
    }
   }
  },
  {
   "cell_type":"code",
   "source":[
    
   ],
   "execution_count":null,
   "outputs":[
    
   ],
   "metadata":{
    "datalore":{
     "node_id":"BNEuhV9ZQ36TQsziWWiYux",
     "type":"CODE",
     "hide_input_from_viewers":false,
     "hide_output_from_viewers":false,
     "report_properties":{
      "rowId":"wDBzgNAYbEgZr76yYhmLjZ"
     }
    }
   }
  }
 ],
 "metadata":{
  "kernelspec":{
   "display_name":"Python",
   "language":"python",
   "name":"python"
  },
  "datalore":{
   "computation_mode":"JUPYTER",
   "package_manager":"pip",
   "base_environment":"default",
   "packages":[
    {
     "name":"openpyxl",
     "version":"3.2.0b1",
     "source":"PIP"
    }
   ],
   "report_row_ids":[
    "iB503WgRz3EATlrSoAq4zv",
    "xSA0Y1aBudRwmWhwUP5rwC",
    "tPfw61CX2Ab0XIUSnzKogM",
    "0VVf9ueDRWxsGwwZUv4IWG",
    "CGubPHm1hNlrteCFDcHi0H",
    "weP7U1YM6RhXkoH4xzl2gb",
    "9CnWh94a9O9VdATqhKPQgy",
    "VRP9zGX8RsuPDvTp9wY2AZ",
    "xxubR1ugSRO2PTEmOyyhiW",
    "NVwZUFY8O4xYaKNl7B8YED",
    "WuLeVr8yGUCCn0aSNN9Pju",
    "TbxJnV0hW93aFb8JmsvgTD",
    "9eHyscgJUXogFwctupe2gQ",
    "MILduYG0829yjnesIf50xw",
    "zDOhmqEurfbPpbLqwTR65R",
    "gJ1hrbLAGilgDNinVAWCRo",
    "8rZtGll26kDhk8KP9VnnGw",
    "hfXOKyqZFA8GzovfIzgk1D",
    "V9xxUOptW780NRFP8jaxDL",
    "BdF0PFihoBJqvhlE4HI3Mu",
    "SX9kJfROX66B8GtUEbp2Tp",
    "pqeOkOvELZK2WxXrOtjxzY",
    "nGJ0LE1HfbnzPJTZkeIa5O",
    "WRxWExo5j9w1l959SXAZ8j",
    "q3vCY99Y8zZvdpr0MYBRHd",
    "cniRBubFYSrkwl8hEh8R8y",
    "wuLiRYrxycBuGmiSorMGtx",
    "42KiudG8Fd5k8aLCEZ6iMO",
    "J0czBCeqikowe9boUaIoxi",
    "DeAjcOjKQN9EdAHIzgvHVS",
    "BSKTVjhSngkpUQeLG5fmXc",
    "3n1AxotD0UwJq3dzXMtTS0",
    "wLsQFgHbAaddveJwtXWTSO",
    "hW2nlUYlLf87fKpQ82OmDB",
    "8lxXlmoj7R8jjFGgsXxsQ9",
    "gybw5PBSbOM3r78v6hLyyP",
    "veE2GNSRWu2gawt0xL6PtO",
    "e6GevrOJu1YWoEUBKJRSdG",
    "wDBzgNAYbEgZr76yYhmLjZ"
   ],
   "version":3
  }
 },
 "nbformat":4,
 "nbformat_minor":4
}